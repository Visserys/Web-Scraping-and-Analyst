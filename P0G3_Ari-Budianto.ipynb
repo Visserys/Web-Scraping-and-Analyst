{
 "cells": [
  {
   "cell_type": "code",
   "execution_count": 1,
   "metadata": {},
   "outputs": [],
   "source": [
    "# '''\n",
    "# =====================================\n",
    "\n",
    "# Nama    : Ari Budianto\n",
    "\n",
    "# Analisis di buat untuk menyelesaikan masalah dan menentukan arah bisinis\n",
    "# prospek penjualan seblak \n",
    "# =====================================\n",
    "# '''"
   ]
  },
  {
   "cell_type": "markdown",
   "metadata": {},
   "source": [
    "# Web Scraping"
   ]
  },
  {
   "cell_type": "markdown",
   "metadata": {},
   "source": [
    "### Import library yang di butuhkan :"
   ]
  },
  {
   "cell_type": "code",
   "execution_count": 2,
   "metadata": {},
   "outputs": [],
   "source": [
    "# import labrary\n",
    "import time \n",
    "import pandas as pd\n",
    "from scipy import stats\n",
    "import numpy as np\n",
    "from bs4 import BeautifulSoup as bs4\n",
    "from selenium import webdriver\n",
    "from selenium.webdriver.support.ui import WebDriverWait\n",
    "from selenium.webdriver.support import expected_conditions as EC\n",
    "from selenium.webdriver.common.by import By"
   ]
  },
  {
   "cell_type": "markdown",
   "metadata": {},
   "source": [
    "# Scraping"
   ]
  },
  {
   "cell_type": "code",
   "execution_count": 3,
   "metadata": {},
   "outputs": [],
   "source": [
    "# Url target\n",
    "url=\"https://www.tokopedia.com/search?navsource=&page=1&q=seblak&srp_component_id=02.01.00.00&srp_page_id=&srp_page_title=&st=\""
   ]
  },
  {
   "cell_type": "markdown",
   "metadata": {},
   "source": [
    "Scraping data dengan looping dan kondisi karena ada elemen-elemen yang berbeda pada product"
   ]
  },
  {
   "cell_type": "markdown",
   "metadata": {},
   "source": [
    "```# Membuat list kosong untuk menyimpan data\n",
    "\n",
    "data = []\n",
    "\n",
    "# Melakukan \\iterasi dari halaman 1 hingga 10\n",
    "for i in range(1,11):  \n",
    "    url = \"https://www.tokopedia.com/search?navsource=&page={}&q=seblak&srp_component_id=02.01.00.00&srp_page_id=&srp_page_title=&st=\".format(i)\n",
    "    driver = webdriver.Chrome()\n",
    "    driver.get(url)\n",
    "\n",
    "    #  menunggu driver 5 detik sampe selectornya muncul\n",
    "    WebDriverWait(driver, 5).until(EC.presence_of_element_located((By.CSS_SELECTOR, '#zeus-root')))\n",
    "    time.sleep(2)\n",
    "\n",
    "    # Melakukan scroll untuk mengambil lebih banyak data\n",
    "    for c in range(2):  # angka menunjukan scroll yang akan dilakukan\n",
    "        driver.execute_script(\"window.scrollBy(0,250)\")\n",
    "        time.sleep(1)\n",
    "\n",
    "    html = driver.page_source\n",
    "    soup = bs4(html, \"html.parser\")\n",
    "\n",
    "    #iterasi melalui elemen-elemen produk pada halaman\n",
    "    for item in soup.findAll('div',{'class':'css-974ipl'}):    \n",
    "        nama_produk = item.find('div',{'class':'prd_link-product-name'}).text\n",
    "        harga = item.find('div',{'class':'prd_link-product-price css-1ksb19c'}).text    \n",
    "\n",
    "        rtng = item.findAll('span',{'class':'prd_rating-average-text'})\n",
    "        if len(rtng) > 0 :\n",
    "            rating = item.find('span',{'class':'prd_rating-average-text'}).text\n",
    "        else :\n",
    "            rating = None\n",
    "\n",
    "        rjl = item.findAll('span',{'class':'prd_label-integrity'})\n",
    "        if len(rjl) > 0 :\n",
    "            terjual = item.find('span',{'class':'prd_label-integrity'}).text\n",
    "        else :\n",
    "            terjual = None\n",
    "\n",
    "        # Iterasi melalui elemen-elemen toko yang berbeda pada produk   \n",
    "        for item2 in item.findAll('div', {'class' :'css-1rn0irl'}):\n",
    "            toko = item2.find_all('span',{'class':'prd_link-shop-name css-1kdc32b flip'})[0].text  \n",
    "            lokasi = item2.find_all('span', {'class' :'prd_link-shop-loc css-1kdc32b flip'})[0].text\n",
    "\n",
    "            data.append(\n",
    "                    (nama_produk,harga,toko,lokasi,terjual,rating)\n",
    "            )\n",
    "\n",
    "df=pd.DataFrame(data,columns=['Nama Barang','Harga Barang','Penjual','Toko','Terjual','Rating Produk'])\n",
    "df = df.drop_duplicates()\n",
    "\n",
    "driver.close()   # Menutup halaman yang sedang aktif\n",
    "\n",
    "```"
   ]
  },
  {
   "cell_type": "code",
   "execution_count": 4,
   "metadata": {},
   "outputs": [],
   "source": [
    "# Data csv \n",
    "df = pd.read_csv('scraping.csv')"
   ]
  },
  {
   "cell_type": "markdown",
   "metadata": {},
   "source": [
    "# Dara Preparation"
   ]
  },
  {
   "cell_type": "markdown",
   "metadata": {},
   "source": [
    "## Pandas"
   ]
  },
  {
   "cell_type": "markdown",
   "metadata": {},
   "source": [
    "- Dari data scraping Tokopedia kita mendapat produk - produk seblak lengkap dengan nama barang, harga , penjual, barang terjual dan rating"
   ]
  },
  {
   "cell_type": "markdown",
   "metadata": {},
   "source": [
    "- Informasi data frame memiliki 124 data(data ini akan berubah - rubah tergantung web scraping ), 6 kolom,semua data bertype object sebagian data memiliki missing value, dengan melihat informasi yang ada kita hitung dan buktikan missing value"
   ]
  },
  {
   "cell_type": "code",
   "execution_count": 5,
   "metadata": {},
   "outputs": [
    {
     "name": "stdout",
     "output_type": "stream",
     "text": [
      "<class 'pandas.core.frame.DataFrame'>\n",
      "RangeIndex: 124 entries, 0 to 123\n",
      "Data columns (total 6 columns):\n",
      " #   Column         Non-Null Count  Dtype  \n",
      "---  ------         --------------  -----  \n",
      " 0   Nama Barang    124 non-null    object \n",
      " 1   Harga Barang   124 non-null    object \n",
      " 2   Penjual        124 non-null    object \n",
      " 3   Toko           124 non-null    object \n",
      " 4   Terjual        112 non-null    object \n",
      " 5   Rating Produk  110 non-null    float64\n",
      "dtypes: float64(1), object(5)\n",
      "memory usage: 5.9+ KB\n"
     ]
    }
   ],
   "source": [
    "# check info data\n",
    "df.info()"
   ]
  },
  {
   "cell_type": "markdown",
   "metadata": {},
   "source": [
    "- Informasi yang di dapat, maka di hitung jumlah missing value , kolom Terjual memiliki 12 missing value selain itu kolom rating produk memiliki 14 missing value\n",
    "  *catatan: data yang di dapat dipengaruhi hasil scraping maka data missing value bisa bertambah mau pun berkurang"
   ]
  },
  {
   "cell_type": "code",
   "execution_count": 6,
   "metadata": {},
   "outputs": [
    {
     "data": {
      "text/plain": [
       "Nama Barang       0\n",
       "Harga Barang      0\n",
       "Penjual           0\n",
       "Toko              0\n",
       "Terjual          12\n",
       "Rating Produk    14\n",
       "dtype: int64"
      ]
     },
     "execution_count": 6,
     "metadata": {},
     "output_type": "execute_result"
    }
   ],
   "source": [
    "# check missing value\n",
    "df.isnull().sum()"
   ]
  },
  {
   "cell_type": "markdown",
   "metadata": {},
   "source": [
    "dari beberapa data missing value akan di handle dengan data cleaning jika  data yang tidak sesuai dengan tipe kita akan menyesuaikan data dengan mengubah tipe data yang sesuai. agar mempermudah langkah selanjutnya dalam melakukan proses perhitungan dan lain lain"
   ]
  },
  {
   "cell_type": "code",
   "execution_count": 7,
   "metadata": {},
   "outputs": [],
   "source": [
    "\n",
    "# Pembersihan data dari karakter\n",
    "df['Harga Barang'] =df['Harga Barang'].str.replace('Rp','')\n",
    "df['Harga Barang'] =df['Harga Barang'].str.replace('.','')\n",
    "df['Terjual'] =df['Terjual'].str.replace('Terjual','')\n",
    "df['Terjual'] =df['Terjual'].str.replace('rb','000')\n",
    "df['Terjual'] =df['Terjual'].str.replace('+','')\n",
    "df['Terjual'] =df['Terjual'].str.replace(' ','')"
   ]
  },
  {
   "cell_type": "markdown",
   "metadata": {},
   "source": [
    "Dari dataframe proses data cleaning berjalan dengan baik dan sesuai yang kita inginkan membuang karakter dan menambah angka yang 'rb' menjadi angka '000'"
   ]
  },
  {
   "cell_type": "code",
   "execution_count": 8,
   "metadata": {},
   "outputs": [],
   "source": [
    "# Mengganti None menjadi nilai tertentu\n",
    "df.fillna(value=0, inplace=True)"
   ]
  },
  {
   "cell_type": "markdown",
   "metadata": {},
   "source": [
    "Setelah melakukan observasi dari data maka saya handling missing value dengan Merubah None menjadi nilai 0 \n"
   ]
  },
  {
   "cell_type": "code",
   "execution_count": 9,
   "metadata": {},
   "outputs": [
    {
     "data": {
      "text/html": [
       "<div>\n",
       "<style scoped>\n",
       "    .dataframe tbody tr th:only-of-type {\n",
       "        vertical-align: middle;\n",
       "    }\n",
       "\n",
       "    .dataframe tbody tr th {\n",
       "        vertical-align: top;\n",
       "    }\n",
       "\n",
       "    .dataframe thead th {\n",
       "        text-align: right;\n",
       "    }\n",
       "</style>\n",
       "<table border=\"1\" class=\"dataframe\">\n",
       "  <thead>\n",
       "    <tr style=\"text-align: right;\">\n",
       "      <th></th>\n",
       "      <th>Nama Barang</th>\n",
       "      <th>Harga Barang</th>\n",
       "      <th>Penjual</th>\n",
       "      <th>Toko</th>\n",
       "      <th>Terjual</th>\n",
       "      <th>Rating Produk</th>\n",
       "    </tr>\n",
       "  </thead>\n",
       "  <tbody>\n",
       "    <tr>\n",
       "      <th>0</th>\n",
       "      <td>Seblak Instan Ceu Nthien Khas Bandung Rasana N...</td>\n",
       "      <td>15000</td>\n",
       "      <td>Central Seblak Nusantara</td>\n",
       "      <td>Tangerang Selatan</td>\n",
       "      <td>1000</td>\n",
       "      <td>4.9</td>\n",
       "    </tr>\n",
       "    <tr>\n",
       "      <th>1</th>\n",
       "      <td>kerupuk seblak pedas</td>\n",
       "      <td>10500</td>\n",
       "      <td>Sumber Bahagia snack</td>\n",
       "      <td>Magelang</td>\n",
       "      <td>0</td>\n",
       "      <td>0.0</td>\n",
       "    </tr>\n",
       "    <tr>\n",
       "      <th>2</th>\n",
       "      <td>SEBLAK JUARA INSTAN MASAK BASAH ASLI BANDUNG E...</td>\n",
       "      <td>22000</td>\n",
       "      <td>Rasa Juara Indonesia</td>\n",
       "      <td>Bandung</td>\n",
       "      <td>750</td>\n",
       "      <td>4.9</td>\n",
       "    </tr>\n",
       "    <tr>\n",
       "      <th>3</th>\n",
       "      <td>Seblak Instant \"mBak'Well\"</td>\n",
       "      <td>15000</td>\n",
       "      <td>Welly Mart</td>\n",
       "      <td>Tangerang Selatan</td>\n",
       "      <td>100</td>\n",
       "      <td>5.0</td>\n",
       "    </tr>\n",
       "    <tr>\n",
       "      <th>4</th>\n",
       "      <td>KERUPUK SEBLAK MENTAH ANEKA WARNA</td>\n",
       "      <td>11500</td>\n",
       "      <td>jajanangarut19</td>\n",
       "      <td>Jakarta Selatan</td>\n",
       "      <td>100</td>\n",
       "      <td>4.9</td>\n",
       "    </tr>\n",
       "  </tbody>\n",
       "</table>\n",
       "</div>"
      ],
      "text/plain": [
       "                                         Nama Barang  Harga Barang  \\\n",
       "0  Seblak Instan Ceu Nthien Khas Bandung Rasana N...         15000   \n",
       "1                               kerupuk seblak pedas         10500   \n",
       "2  SEBLAK JUARA INSTAN MASAK BASAH ASLI BANDUNG E...         22000   \n",
       "3                         Seblak Instant \"mBak'Well\"         15000   \n",
       "4                  KERUPUK SEBLAK MENTAH ANEKA WARNA         11500   \n",
       "\n",
       "                    Penjual               Toko  Terjual  Rating Produk  \n",
       "0  Central Seblak Nusantara  Tangerang Selatan     1000            4.9  \n",
       "1      Sumber Bahagia snack           Magelang        0            0.0  \n",
       "2      Rasa Juara Indonesia            Bandung      750            4.9  \n",
       "3                Welly Mart  Tangerang Selatan      100            5.0  \n",
       "4            jajanangarut19    Jakarta Selatan      100            4.9  "
      ]
     },
     "execution_count": 9,
     "metadata": {},
     "output_type": "execute_result"
    }
   ],
   "source": [
    "# membuat kolom pendapatan\n",
    "cols_to_convert = ['Harga Barang','Terjual']\n",
    "df[cols_to_convert]=df[cols_to_convert].astype('int64')\n",
    "df['Rating Produk']=df['Rating Produk'].replace('[^\\d.-]', '', regex=True).astype(float)\n",
    "df.head()"
   ]
  },
  {
   "cell_type": "markdown",
   "metadata": {},
   "source": [
    "# Business Understanding/Problem Statement"
   ]
  },
  {
   "cell_type": "markdown",
   "metadata": {},
   "source": [
    "Mendefinisikan Problem Statement\n",
    "Mengunakan Kerangka SMART :\n",
    "1. Specific : Menilai antusiasme dan penjualan produk seblak di Tokopedia untuk mendapatkan insight tentang tingkat popularitas dan animo konsumen terhadap produk seblak\n",
    "\n",
    "2. Measurable : Mengukur angka penjualan, hrga jual, jumlah pesanan, dan ranting terhadap produk seblak untuk memahami seberapa banyak yang membeli dan mempberikan feedback yang positif \n",
    "\n",
    "3. Achievable : Data yang dibutuhkan dapat diambil melalui teknik web scraping dari situs Tokopedia, dan analisis dapat dilakukan dengan menggunakan keterampilan dan pengetahuan dalam analisis data.\n",
    "\n",
    "4. Relevant : Analisis ini penting untuk menginformasikan keputusan bisnis apakah layak menjalankan skema dropship produk seblak berdasarkan minat dan kinerja penjualan yang diamati.\n",
    "\n",
    "5. Time-bound : Analisis data akan dilakukan dalam rentang waktu 1 minggu, dan laporan hasil akan disiapkan untuk menunjang meningkatkan keberhasilan dalam business drop ship seblak.\n",
    "\n",
    "`Problem statement`:\n",
    "Dalam Usaha meningkatkan pendapatan Di Tokopedia Dengan skema drop ship, dalam skema dropship memiliki kendala menentukan produk seblak yang memiliki rata-rata penjualan tinggi dan diminati oleh pembeli, dengan ada nya masalah yang sudah ditentukan maka data di analisa penjualan produk seblak yang ada di Tokopedia untuk mendapat insight memahami konsumen terhadap produk seblak, dengan menganlisa pembelian produk ini dan kinerja penjjualanya.\n"
   ]
  },
  {
   "cell_type": "markdown",
   "metadata": {},
   "source": []
  },
  {
   "cell_type": "markdown",
   "metadata": {},
   "source": [
    "# Analysis"
   ]
  },
  {
   "cell_type": "markdown",
   "metadata": {},
   "source": [
    "- Proses Menghitung rata-rata,media,standar deviasi,skewness dan kurtosis Harga Barang"
   ]
  },
  {
   "cell_type": "code",
   "execution_count": 10,
   "metadata": {},
   "outputs": [
    {
     "name": "stdout",
     "output_type": "stream",
     "text": [
      "Output dari data rata-rata: 22236.225806451614\n",
      "Output dari data Median: 15000.0\n",
      "Standard Deviation Harga barang: 21626.247422770168\n",
      "Skewness: 2.1249005422493386\n",
      "Kurtosis: 4.885370476863323\n"
     ]
    }
   ],
   "source": [
    "# Menghitung rata-rata,media,standar deviasi,skewness dan kurtosis\n",
    "print('Output dari data rata-rata:',df['Harga Barang'].mean())\n",
    "print('Output dari data Median:',df['Harga Barang'].median())\n",
    "std = df['Harga Barang'].std()\n",
    "print('Standard Deviation Harga barang:',std)\n",
    "print(f\"Skewness: {df['Harga Barang'].skew()}\")\n",
    "print(f\"Kurtosis: {df['Harga Barang'].kurtosis()}\")\n"
   ]
  },
  {
   "cell_type": "markdown",
   "metadata": {},
   "source": [
    "- Proses Menghitung rata-rata,media,standar deviasi,skewness dan kurtosis Banyak Produk Terjual"
   ]
  },
  {
   "cell_type": "code",
   "execution_count": 11,
   "metadata": {},
   "outputs": [
    {
     "name": "stdout",
     "output_type": "stream",
     "text": [
      "Output dari data rata-rata: 358.0241935483871\n",
      "Output dari data Median: 80.0\n",
      "Standard Deviation Terjual: 1101.2075741480953\n",
      "Skewness: 6.487942408861648\n",
      "Kurtosis: 50.2555161752538\n"
     ]
    }
   ],
   "source": [
    "# Menghitung rata-rata,media,standar deviasi,skewness dan kurtosis\n",
    "print('Output dari data rata-rata:',df['Terjual'].mean())\n",
    "print('Output dari data Median:',df['Terjual'].median())\n",
    "std = df['Terjual'].std()\n",
    "print('Standard Deviation Terjual:',std)\n",
    "print(f\"Skewness: {df['Terjual'].skew()}\")\n",
    "print(f\"Kurtosis: {df['Terjual'].kurtosis()}\")"
   ]
  },
  {
   "cell_type": "markdown",
   "metadata": {},
   "source": [
    "- Proses Menghitung rata-rata,media,standar deviasi,skewness dan kurtosis Rating"
   ]
  },
  {
   "cell_type": "code",
   "execution_count": 12,
   "metadata": {},
   "outputs": [
    {
     "name": "stdout",
     "output_type": "stream",
     "text": [
      "Output dari data rata-rata: 4.3233870967741925\n",
      "Output dari data Median: 4.9\n",
      "Standard Deviation Rating Produk: 1.5540196434375841\n",
      "Skewness: -2.444128744488976\n",
      "Kurtosis: 4.104089786557097\n"
     ]
    }
   ],
   "source": [
    "# Menghitung rata-rata,media,standar deviasi,skewness dan kurtosis\n",
    "print('Output dari data rata-rata:',df['Rating Produk'].mean())\n",
    "print('Output dari data Median:',df['Rating Produk'].median())\n",
    "std = df['Rating Produk'].std()\n",
    "print('Standard Deviation Rating Produk:',std)\n",
    "print(f\"Skewness: {df['Rating Produk'].skew()}\")\n",
    "print(f\"Kurtosis: {df['Rating Produk'].kurtosis()}\")"
   ]
  },
  {
   "cell_type": "markdown",
   "metadata": {},
   "source": [
    "Dari hasil perhitungan yang sudah dilakukan terhadapap poduk seblak di Tokopedia. penyebaran datanya kecendurangan memiliki outlier Highly Skewed dan memiliki positif skewed\n"
   ]
  },
  {
   "cell_type": "markdown",
   "metadata": {},
   "source": [
    "kolom terjual"
   ]
  },
  {
   "cell_type": "code",
   "execution_count": 13,
   "metadata": {},
   "outputs": [
    {
     "data": {
      "text/html": [
       "<div>\n",
       "<style scoped>\n",
       "    .dataframe tbody tr th:only-of-type {\n",
       "        vertical-align: middle;\n",
       "    }\n",
       "\n",
       "    .dataframe tbody tr th {\n",
       "        vertical-align: top;\n",
       "    }\n",
       "\n",
       "    .dataframe thead th {\n",
       "        text-align: right;\n",
       "    }\n",
       "</style>\n",
       "<table border=\"1\" class=\"dataframe\">\n",
       "  <thead>\n",
       "    <tr style=\"text-align: right;\">\n",
       "      <th></th>\n",
       "      <th>Nama Barang</th>\n",
       "      <th>Harga Barang</th>\n",
       "      <th>Penjual</th>\n",
       "      <th>Toko</th>\n",
       "      <th>Terjual</th>\n",
       "      <th>Rating Produk</th>\n",
       "      <th>Pendapatan</th>\n",
       "    </tr>\n",
       "  </thead>\n",
       "  <tbody>\n",
       "    <tr>\n",
       "      <th>0</th>\n",
       "      <td>Seblak Instan Ceu Nthien Khas Bandung Rasana N...</td>\n",
       "      <td>15000</td>\n",
       "      <td>Central Seblak Nusantara</td>\n",
       "      <td>Tangerang Selatan</td>\n",
       "      <td>1000</td>\n",
       "      <td>4.9</td>\n",
       "      <td>15000000</td>\n",
       "    </tr>\n",
       "    <tr>\n",
       "      <th>1</th>\n",
       "      <td>kerupuk seblak pedas</td>\n",
       "      <td>10500</td>\n",
       "      <td>Sumber Bahagia snack</td>\n",
       "      <td>Magelang</td>\n",
       "      <td>0</td>\n",
       "      <td>0.0</td>\n",
       "      <td>0</td>\n",
       "    </tr>\n",
       "    <tr>\n",
       "      <th>2</th>\n",
       "      <td>SEBLAK JUARA INSTAN MASAK BASAH ASLI BANDUNG E...</td>\n",
       "      <td>22000</td>\n",
       "      <td>Rasa Juara Indonesia</td>\n",
       "      <td>Bandung</td>\n",
       "      <td>750</td>\n",
       "      <td>4.9</td>\n",
       "      <td>16500000</td>\n",
       "    </tr>\n",
       "    <tr>\n",
       "      <th>3</th>\n",
       "      <td>Seblak Instant \"mBak'Well\"</td>\n",
       "      <td>15000</td>\n",
       "      <td>Welly Mart</td>\n",
       "      <td>Tangerang Selatan</td>\n",
       "      <td>100</td>\n",
       "      <td>5.0</td>\n",
       "      <td>1500000</td>\n",
       "    </tr>\n",
       "    <tr>\n",
       "      <th>4</th>\n",
       "      <td>KERUPUK SEBLAK MENTAH ANEKA WARNA</td>\n",
       "      <td>11500</td>\n",
       "      <td>jajanangarut19</td>\n",
       "      <td>Jakarta Selatan</td>\n",
       "      <td>100</td>\n",
       "      <td>4.9</td>\n",
       "      <td>1150000</td>\n",
       "    </tr>\n",
       "  </tbody>\n",
       "</table>\n",
       "</div>"
      ],
      "text/plain": [
       "                                         Nama Barang  Harga Barang  \\\n",
       "0  Seblak Instan Ceu Nthien Khas Bandung Rasana N...         15000   \n",
       "1                               kerupuk seblak pedas         10500   \n",
       "2  SEBLAK JUARA INSTAN MASAK BASAH ASLI BANDUNG E...         22000   \n",
       "3                         Seblak Instant \"mBak'Well\"         15000   \n",
       "4                  KERUPUK SEBLAK MENTAH ANEKA WARNA         11500   \n",
       "\n",
       "                    Penjual               Toko  Terjual  Rating Produk  \\\n",
       "0  Central Seblak Nusantara  Tangerang Selatan     1000            4.9   \n",
       "1      Sumber Bahagia snack           Magelang        0            0.0   \n",
       "2      Rasa Juara Indonesia            Bandung      750            4.9   \n",
       "3                Welly Mart  Tangerang Selatan      100            5.0   \n",
       "4            jajanangarut19    Jakarta Selatan      100            4.9   \n",
       "\n",
       "   Pendapatan  \n",
       "0    15000000  \n",
       "1           0  \n",
       "2    16500000  \n",
       "3     1500000  \n",
       "4     1150000  "
      ]
     },
     "execution_count": 13,
     "metadata": {},
     "output_type": "execute_result"
    }
   ],
   "source": [
    "# membuat kolom terjual\n",
    "df['Pendapatan']=df['Harga Barang'] * df['Terjual']\n",
    "df.head()"
   ]
  },
  {
   "cell_type": "markdown",
   "metadata": {},
   "source": [
    "- Dalam menjual produk sebalak kita mendapatkan Potensi pendapatan minimum dan maximum "
   ]
  },
  {
   "cell_type": "code",
   "execution_count": 14,
   "metadata": {},
   "outputs": [
    {
     "name": "stdout",
     "output_type": "stream",
     "text": [
      "Lower Limit: 3102926.214023811\n",
      "Upper Limit: 8022347.495653608\n"
     ]
    }
   ],
   "source": [
    "# check standar defiasi\n",
    "std = df['Pendapatan'].std()\n",
    "N = len(df)\n",
    "low, up = stats.norm.interval(0.95,loc=df['Pendapatan'].mean(),scale=std/np.sqrt(N))\n",
    "print('Lower Limit:',low)\n",
    "print('Upper Limit:',up)"
   ]
  },
  {
   "cell_type": "markdown",
   "metadata": {},
   "source": [
    "kita cari tahu lokasi tempat penjual dengan mengunakan data unique\n"
   ]
  },
  {
   "cell_type": "code",
   "execution_count": 15,
   "metadata": {},
   "outputs": [
    {
     "data": {
      "text/plain": [
       "array(['Tangerang Selatan', 'Magelang', 'Bandung', 'Jakarta Selatan',\n",
       "       'Jakarta Barat', 'Kab. Bandung', 'Jakarta Pusat', 'Kab. Bogor',\n",
       "       'Jakarta Timur', 'Surakarta', 'Kab. Bekasi', 'Surabaya', 'Bekasi',\n",
       "       'Kab. Garut', 'Kab. Bandung Barat', 'Jakarta Utara', 'Tangerang',\n",
       "       'Medan', 'Depok', 'Kab. Jember', 'Kab. Tangerang', 'Kab. Karawang',\n",
       "       'Cimahi'], dtype=object)"
      ]
     },
     "execution_count": 15,
     "metadata": {},
     "output_type": "execute_result"
    }
   ],
   "source": [
    "# check unik\n",
    "df['Toko'].unique()"
   ]
  },
  {
   "cell_type": "markdown",
   "metadata": {},
   "source": [
    "memisahkan kota - kota yang berada dalam jabodetabek  dan non jabodetabek"
   ]
  },
  {
   "cell_type": "code",
   "execution_count": 16,
   "metadata": {},
   "outputs": [
    {
     "data": {
      "text/html": [
       "<div>\n",
       "<style scoped>\n",
       "    .dataframe tbody tr th:only-of-type {\n",
       "        vertical-align: middle;\n",
       "    }\n",
       "\n",
       "    .dataframe tbody tr th {\n",
       "        vertical-align: top;\n",
       "    }\n",
       "\n",
       "    .dataframe thead th {\n",
       "        text-align: right;\n",
       "    }\n",
       "</style>\n",
       "<table border=\"1\" class=\"dataframe\">\n",
       "  <thead>\n",
       "    <tr style=\"text-align: right;\">\n",
       "      <th></th>\n",
       "      <th>Nama Barang</th>\n",
       "      <th>Harga Barang</th>\n",
       "      <th>Penjual</th>\n",
       "      <th>Toko</th>\n",
       "      <th>Terjual</th>\n",
       "      <th>Rating Produk</th>\n",
       "      <th>Pendapatan</th>\n",
       "    </tr>\n",
       "  </thead>\n",
       "  <tbody>\n",
       "    <tr>\n",
       "      <th>0</th>\n",
       "      <td>Seblak Instan Ceu Nthien Khas Bandung Rasana N...</td>\n",
       "      <td>15000</td>\n",
       "      <td>Central Seblak Nusantara</td>\n",
       "      <td>Tangerang Selatan</td>\n",
       "      <td>1000</td>\n",
       "      <td>4.9</td>\n",
       "      <td>15000000</td>\n",
       "    </tr>\n",
       "    <tr>\n",
       "      <th>3</th>\n",
       "      <td>Seblak Instant \"mBak'Well\"</td>\n",
       "      <td>15000</td>\n",
       "      <td>Welly Mart</td>\n",
       "      <td>Tangerang Selatan</td>\n",
       "      <td>100</td>\n",
       "      <td>5.0</td>\n",
       "      <td>1500000</td>\n",
       "    </tr>\n",
       "    <tr>\n",
       "      <th>4</th>\n",
       "      <td>KERUPUK SEBLAK MENTAH ANEKA WARNA</td>\n",
       "      <td>11500</td>\n",
       "      <td>jajanangarut19</td>\n",
       "      <td>Jakarta Selatan</td>\n",
       "      <td>100</td>\n",
       "      <td>4.9</td>\n",
       "      <td>1150000</td>\n",
       "    </tr>\n",
       "    <tr>\n",
       "      <th>5</th>\n",
       "      <td>Seblak ala Kang Rafael | Seblak Viral | Seblak...</td>\n",
       "      <td>9216</td>\n",
       "      <td>vieka mart official</td>\n",
       "      <td>Tangerang Selatan</td>\n",
       "      <td>250</td>\n",
       "      <td>5.0</td>\n",
       "      <td>2304000</td>\n",
       "    </tr>\n",
       "    <tr>\n",
       "      <th>6</th>\n",
       "      <td>Kerupuk Seblak Viral / Kerupuk Mawar Putih Vir...</td>\n",
       "      <td>8000</td>\n",
       "      <td>Bumbukeluargakita</td>\n",
       "      <td>Jakarta Barat</td>\n",
       "      <td>12</td>\n",
       "      <td>5.0</td>\n",
       "      <td>96000</td>\n",
       "    </tr>\n",
       "  </tbody>\n",
       "</table>\n",
       "</div>"
      ],
      "text/plain": [
       "                                         Nama Barang  Harga Barang  \\\n",
       "0  Seblak Instan Ceu Nthien Khas Bandung Rasana N...         15000   \n",
       "3                         Seblak Instant \"mBak'Well\"         15000   \n",
       "4                  KERUPUK SEBLAK MENTAH ANEKA WARNA         11500   \n",
       "5  Seblak ala Kang Rafael | Seblak Viral | Seblak...          9216   \n",
       "6  Kerupuk Seblak Viral / Kerupuk Mawar Putih Vir...          8000   \n",
       "\n",
       "                    Penjual               Toko  Terjual  Rating Produk  \\\n",
       "0  Central Seblak Nusantara  Tangerang Selatan     1000            4.9   \n",
       "3                Welly Mart  Tangerang Selatan      100            5.0   \n",
       "4            jajanangarut19    Jakarta Selatan      100            4.9   \n",
       "5       vieka mart official  Tangerang Selatan      250            5.0   \n",
       "6         Bumbukeluargakita      Jakarta Barat       12            5.0   \n",
       "\n",
       "   Pendapatan  \n",
       "0    15000000  \n",
       "3     1500000  \n",
       "4     1150000  \n",
       "5     2304000  \n",
       "6       96000  "
      ]
     },
     "execution_count": 16,
     "metadata": {},
     "output_type": "execute_result"
    }
   ],
   "source": [
    "# Maping kota\n",
    "kota = {'Tangerang Selatan', 'Jakarta Barat',\n",
    "       'Jakarta Selatan','Jakarta Pusat', 'Kab. Bogor','Jakarta Utara',\n",
    "       'Jakarta Timur', 'Bekasi', 'Kab. Bekasi', 'Tangerang', 'Depok', 'Kab. Tangerang'\n",
    "        }\n",
    "jabodetabek=df[df['Toko'].isin(kota)]\n",
    "jabodetabek.head()"
   ]
  },
  {
   "cell_type": "markdown",
   "metadata": {},
   "source": [
    "daftar kota diluar jabodetabek"
   ]
  },
  {
   "cell_type": "code",
   "execution_count": 17,
   "metadata": {},
   "outputs": [
    {
     "data": {
      "text/html": [
       "<div>\n",
       "<style scoped>\n",
       "    .dataframe tbody tr th:only-of-type {\n",
       "        vertical-align: middle;\n",
       "    }\n",
       "\n",
       "    .dataframe tbody tr th {\n",
       "        vertical-align: top;\n",
       "    }\n",
       "\n",
       "    .dataframe thead th {\n",
       "        text-align: right;\n",
       "    }\n",
       "</style>\n",
       "<table border=\"1\" class=\"dataframe\">\n",
       "  <thead>\n",
       "    <tr style=\"text-align: right;\">\n",
       "      <th></th>\n",
       "      <th>Nama Barang</th>\n",
       "      <th>Harga Barang</th>\n",
       "      <th>Penjual</th>\n",
       "      <th>Toko</th>\n",
       "      <th>Terjual</th>\n",
       "      <th>Rating Produk</th>\n",
       "      <th>Pendapatan</th>\n",
       "    </tr>\n",
       "  </thead>\n",
       "  <tbody>\n",
       "    <tr>\n",
       "      <th>1</th>\n",
       "      <td>kerupuk seblak pedas</td>\n",
       "      <td>10500</td>\n",
       "      <td>Sumber Bahagia snack</td>\n",
       "      <td>Magelang</td>\n",
       "      <td>0</td>\n",
       "      <td>0.0</td>\n",
       "      <td>0</td>\n",
       "    </tr>\n",
       "    <tr>\n",
       "      <th>2</th>\n",
       "      <td>SEBLAK JUARA INSTAN MASAK BASAH ASLI BANDUNG E...</td>\n",
       "      <td>22000</td>\n",
       "      <td>Rasa Juara Indonesia</td>\n",
       "      <td>Bandung</td>\n",
       "      <td>750</td>\n",
       "      <td>4.9</td>\n",
       "      <td>16500000</td>\n",
       "    </tr>\n",
       "    <tr>\n",
       "      <th>7</th>\n",
       "      <td>KERUPUK MENTAH SERBA 5000 BAHAN SEBLAK</td>\n",
       "      <td>6000</td>\n",
       "      <td>GK_Snack</td>\n",
       "      <td>Kab. Bandung</td>\n",
       "      <td>500</td>\n",
       "      <td>5.0</td>\n",
       "      <td>3000000</td>\n",
       "    </tr>\n",
       "    <tr>\n",
       "      <th>22</th>\n",
       "      <td>SEBRING KRUPUK KERUPUK SEBLAK KERING PEDAS DAU...</td>\n",
       "      <td>16000</td>\n",
       "      <td>Aydaa Snack</td>\n",
       "      <td>Surakarta</td>\n",
       "      <td>40</td>\n",
       "      <td>4.9</td>\n",
       "      <td>640000</td>\n",
       "    </tr>\n",
       "    <tr>\n",
       "      <th>25</th>\n",
       "      <td>GURILEM MINI 1KG Siomay Kering Toping Baso Aci...</td>\n",
       "      <td>29999</td>\n",
       "      <td>Pedas Gilaa</td>\n",
       "      <td>Surabaya</td>\n",
       "      <td>500</td>\n",
       "      <td>4.9</td>\n",
       "      <td>14999500</td>\n",
       "    </tr>\n",
       "  </tbody>\n",
       "</table>\n",
       "</div>"
      ],
      "text/plain": [
       "                                          Nama Barang  Harga Barang  \\\n",
       "1                                kerupuk seblak pedas         10500   \n",
       "2   SEBLAK JUARA INSTAN MASAK BASAH ASLI BANDUNG E...         22000   \n",
       "7              KERUPUK MENTAH SERBA 5000 BAHAN SEBLAK          6000   \n",
       "22  SEBRING KRUPUK KERUPUK SEBLAK KERING PEDAS DAU...         16000   \n",
       "25  GURILEM MINI 1KG Siomay Kering Toping Baso Aci...         29999   \n",
       "\n",
       "                 Penjual          Toko  Terjual  Rating Produk  Pendapatan  \n",
       "1   Sumber Bahagia snack      Magelang        0            0.0           0  \n",
       "2   Rasa Juara Indonesia       Bandung      750            4.9    16500000  \n",
       "7               GK_Snack  Kab. Bandung      500            5.0     3000000  \n",
       "22           Aydaa Snack     Surakarta       40            4.9      640000  \n",
       "25           Pedas Gilaa      Surabaya      500            4.9    14999500  "
      ]
     },
     "execution_count": 17,
     "metadata": {},
     "output_type": "execute_result"
    }
   ],
   "source": [
    "# memisahkan kota non jabodetabek\n",
    "nonjabodetabek=df[~df['Toko'].isin(kota)]\n",
    "nonjabodetabek.head()"
   ]
  },
  {
   "cell_type": "markdown",
   "metadata": {},
   "source": [
    "Perbedaan harga berdasakan wilyah\n",
    "H0: μ_Jabodetabek = μ_nonJabodetabek\n",
    "\n",
    "H1: μ_Jabodetabek ≠ μ_nonJabodetabek\n",
    "\n",
    "Paired Test (Two-Sample Dependent Test)\n",
    "\n",
    "Kesimpulan: Berdasarkan nilai p-value yang tinggi lebih dari 0,05 dan t-statistik yang positif, Dalam hasil uji ini, tidak ada bukti yang cukup untuk mendukung pernyataan bahwa biaya bahan baku yang berbeda di kedua lokasi menyebabkan perbedaan harga barang yang signifikan. meski perbedaan harga bahan baku diakui."
   ]
  },
  {
   "cell_type": "code",
   "execution_count": 18,
   "metadata": {},
   "outputs": [
    {
     "name": "stdout",
     "output_type": "stream",
     "text": [
      "P-value: 0.27365840168956757\n",
      "T_statistik: 1.099630255427337\n"
     ]
    }
   ],
   "source": [
    "# Perbadningan\n",
    "t_stat,p_val = stats.ttest_ind(jabodetabek['Harga Barang'],nonjabodetabek['Harga Barang'])\n",
    "print('P-value:',p_val)\n",
    "print('T_statistik:',t_stat)\n"
   ]
  },
  {
   "cell_type": "markdown",
   "metadata": {},
   "source": [
    "-  kolerasi"
   ]
  },
  {
   "cell_type": "markdown",
   "metadata": {},
   "source": [
    "berdasarkan nilai kolerasi yang lemah dan p-value yang tinggi analisis tidak cukup bukti untuk mendukung kesimpulan yang ada bahwa orang suka produk lebih murah"
   ]
  },
  {
   "cell_type": "code",
   "execution_count": 19,
   "metadata": {},
   "outputs": [
    {
     "name": "stdout",
     "output_type": "stream",
     "text": [
      "r-correlation: -0.10, p-value: 0.26183775264178766\n"
     ]
    }
   ],
   "source": [
    "# check kolerasi\n",
    "corr_r, pval_p = stats.pearsonr(df['Harga Barang'], df['Terjual'])\n",
    "print(f\"r-correlation: {corr_r:.2f}, p-value: {pval_p}\")"
   ]
  },
  {
   "cell_type": "markdown",
   "metadata": {},
   "source": [
    "\n",
    "Dari hasil perhitungan yang sudah dilakukan terhadapap poduk seblak di Tokopedia. penyebaran datanya kecendurangan memiliki outlier Highly Skewed dan memiliki positif skewed.\n",
    "Menjual produk seblak kita mendapat pendapat minum dan masksimum,estimasi pendapatan perbulan adalah kisaran (3102926.214023811) sampai (8022347.495653608) untuk pendapat tambahan data ini menunjukan hasil yang positif untuk di jalankan.\n",
    "\n",
    "Dengan harga bahan dan barang yang tinggi kita menganalisa harga barang di jobodetabek dan diluar jabodetabek apakah sama atau tidak di karenakan harga bahan yang berbeda.\n",
    "dari data yang kita dapat harga barang jabodetabek dan di luar jabodetabek relatif sama karena tidak ada bukti yang mendukung perbedaan harga. itu kembali terhadap kualitas produk dan jenis produk.\n",
    "Dalam menjual produk kita harus mempertimbangkan minat konsumen terhadapa produk salah satunya harga barang berdasarkan data yang telah di analisis tidak cukup bukti untuk mendukung kesimpulan yang ada bahwa orang suka produk lebih murah\n"
   ]
  },
  {
   "cell_type": "markdown",
   "metadata": {},
   "source": [
    "# Conclusion\n",
    "\n",
    "Kesimpulan :\n",
    "\n",
    "Outlier dan distribusi data : Adanya outlier dala distribusi data menunjukan adanya variabilitas dalam performa penjualan. data memiliki kecendrungan positif skewed , yang dapat di indentifikasi bahwa sebagian besar Produk memiliki performa penjualan yang cukup baik.\n",
    "\n",
    "Dengan mempertimbangkan hasil analisis ini, merekomendasikan agar skema dropship produk seblak dapat di pertimbangkan dengan lebih lanjut. Penjualan yang positif dan estimasi pendapatan yang cukup menjanjikan menunjukan bahwa produk ini memiliki potensi dalam bisnis dropship.\n",
    "Meskipun analisis ini memberikan wawasan yang berguna, perlu di ingat bahwa data dan hasil bersifat berdasarkan data yang ada, kita tahu masih banyak keterbatasan informasi data di karenakan data yang kurang lengkap atau perlu lebih banyak data.\n",
    "Dalam kesimpulnya, hasil analisa ini memberikan pandangan positif terhadap produk seblak sebagai potensi dalam skema dropship."
   ]
  }
 ],
 "metadata": {
  "kernelspec": {
   "display_name": "Python 3",
   "language": "python",
   "name": "python3"
  },
  "language_info": {
   "codemirror_mode": {
    "name": "ipython",
    "version": 3
   },
   "file_extension": ".py",
   "mimetype": "text/x-python",
   "name": "python",
   "nbconvert_exporter": "python",
   "pygments_lexer": "ipython3",
   "version": "3.11.4"
  },
  "orig_nbformat": 4
 },
 "nbformat": 4,
 "nbformat_minor": 2
}
